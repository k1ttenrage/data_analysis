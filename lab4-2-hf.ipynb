{
 "cells": [
  {
   "cell_type": "code",
   "execution_count": 11,
   "metadata": {},
   "outputs": [
    {
     "data": {
      "text/plain": [
       "{'score': 0.5048838257789612, 'start': 24, 'end': 34, 'answer': ' у Лондоні'}"
      ]
     },
     "execution_count": 11,
     "metadata": {},
     "output_type": "execute_result"
    }
   ],
   "source": [
    "from transformers import pipeline, AutoTokenizer, AutoModelForQuestionAnswering, AutoModelForTokenClassification\n",
    "model_name = \"robinhad/ukrainian-qa\"\n",
    "\n",
    "tokenizer = AutoTokenizer.from_pretrained(model_name)\n",
    "model = AutoModelForQuestionAnswering.from_pretrained(model_name)\n",
    "\n",
    "qa_model = pipeline(\"question-answering\", model=model.to(\"cpu\"), tokenizer=tokenizer)\n",
    "question = \"Де ти живеш?\"\n",
    "context = \"Мене звати Сара і я живу у Лондоні\"\n",
    "qa_model(question = question, context = context)"
   ]
  },
  {
   "cell_type": "code",
   "execution_count": 9,
   "metadata": {},
   "outputs": [
    {
     "name": "stdout",
     "output_type": "stream",
     "text": [
      "question: Що відправлять для ЗСУ?\n",
      "context: Про це повідомив міністр оборони Арвідас Анушаускас. Уряд Литви не має наміру зупинятися у військово-технічній допомозі Україні. Збройні сили отримають антидрони, тепловізори та ударний безпілотник. «Незабаром Литва передасть Україні не лише обіцяні бронетехніку, вантажівки та позашляховики, але також нову партію антидронів та тепловізорів. І, звичайно, Байрактар, який придбають на зібрані литовцями гроші», - написав глава Міноборони\n",
      " антидрони, тепловізори та ударний безпілотник.\n",
      "question: внаслідок чого вночі сталась пожежа?\n",
      "context: Попри 100% результативність української ППО є постраждалі внаслідок падіння уламків. У Дарницькому районі сталася пожежа в недобудованій будівлі. Ще один уламок — упав на газон. Поранень зазнали 4 жителі Бортничів (мікрорайон Києва). Також уламки падали у Голосіївському та Шевченківському районах. Обійшлося без постраждалих\n",
      " падіння уламків.\n",
      "question: Що треба перевірити?\n",
      "context: ВІтаю! НАГАДУЮ, ЩО 28 ЖОВТНЯ ЗАКІНЧУЄТЬСЯ  1 АТЕСТАЦІЯ, я в кампусі все виставила (атестація виставляється за 1 лабораторну, відправлену в класрум). Перевірте будь-ласка свої результати, якщо побачите невідповідності - доєднуйтесь завтра на практику і повідомте\n",
      " Перевірте будь-ласка свої результати,\n",
      "question: про який університет іде мова?\n",
      "context: КПІ ім. Сікорського випускає найбільше фахівців для українського ІТ: 13% наших айтівців вчилися тут. Студенти та випускники зазвичай досить низько оцінюють свій ЗВО. Цього року їхня готовність рекомендувати університет становить 6,4 бала з 10 (у 2019 році — 6,3 бала). На відміну від минулих років, цього року майже немає різниці в оцінках різних факультетів КПІ ім. Сікорського. Водночас зарплати розробників, які вчилися тут, одні з найвищих — зважена за тайтлами медіана у 2022 році становила $3000. Рівень знання англійської мови серед студентів і випускників вищий від середнього — 58% оцінили його як Upper Intermediate чи Advanced. Переважно студенти та випускники КПІ ім. Сікорського працюють за технічними спеціалізаціями. Більш ніж половина — розробниками (61%). Частіше, ніж загалом в університетах, випускники та студенти цього вишу працюють як Back-end розробники (46%) — це спеціалізація, яка має вищі медіанні зарплати, якщо порівнювати з іншими напрямами розробки. Інші популярні серед студентів і випускників КПІ ім. Сікорського спеціалізації — тестування (11%), Data Science та аналітика (по 6%). Серед найважливіших навичок, здобутих в університеті, респонденти називають вміння вчитися і працювати з інформацією (59%). 56% цінують друзів і однодумців, яких зустріли в університеті.\n",
      "КПІ ім. Сікорського\n",
      "question: що треба зробити\n",
      "context: Ви не могли б допомогти, будь ласка? Тут на 2хв форма, Ані завтра треба в школу багато відповідей, тому, був би вам дуже вдячний.\n",
      " Ані завтра треба в школу багато відповідей,\n"
     ]
    }
   ],
   "source": [
    "import json\n",
    "\n",
    "with open(\"qa.json\", \"r\", encoding=\"utf-8\") as f:\n",
    "    data = json.load(f)\n",
    "\n",
    "for i in data:\n",
    "    print('question:', i)\n",
    "    print('context:', data[i])\n",
    "    print(qa_model(question = i, context = data[i])['answer'])"
   ]
  },
  {
   "cell_type": "code",
   "execution_count": 18,
   "metadata": {},
   "outputs": [
    {
     "name": "stdout",
     "output_type": "stream",
     "text": [
      "downloading https://github.com/robinhad/ukrainian-tts/releases/download/v6.0.0\n",
      "Found ./model.pth. Skipping download...\n",
      "Found ./config.yaml. Skipping download...\n",
      "Found ./spk_xvector.ark. Skipping download...\n",
      "Found ./feats_stats.npz. Skipping download...\n",
      "downloaded.\n",
      "RTF = 0.512658\n",
      "Accented text: прив+іт, +як +у теб+е спр+ави?\n"
     ]
    }
   ],
   "source": [
    "from ukrainian_tts.tts import TTS, Voices, Stress\n",
    "import IPython.display as ipd\n",
    "\n",
    "tts = TTS(device=\"cpu\") # can try gpu, mps\n",
    "with open(\"test.wav\", mode=\"wb\") as file:\n",
    "    _, output_text = tts.tts(\"Привіт, як у тебе справи?\", Voices.Dmytro.value, Stress.Dictionary.value, file)\n",
    "print(\"Accented text:\", output_text)\n",
    "\n",
    "ipd.Audio(filename=\"test.wav\")"
   ]
  },
  {
   "cell_type": "code",
   "execution_count": 19,
   "metadata": {},
   "outputs": [
    {
     "name": "stdout",
     "output_type": "stream",
     "text": [
      "downloading https://github.com/robinhad/ukrainian-tts/releases/download/v6.0.0\n",
      "Found ./model.pth. Skipping download...\n",
      "Found ./config.yaml. Skipping download...\n",
      "Found ./spk_xvector.ark. Skipping download...\n",
      "Found ./feats_stats.npz. Skipping download...\n",
      "downloaded.\n"
     ]
    },
    {
     "name": "stderr",
     "output_type": "stream",
     "text": [
      "/opt/homebrew/lib/python3.11/site-packages/torch/nn/utils/weight_norm.py:30: UserWarning: torch.nn.utils.weight_norm is deprecated in favor of torch.nn.utils.parametrizations.weight_norm.\n",
      "  warnings.warn(\"torch.nn.utils.weight_norm is deprecated in favor of torch.nn.utils.parametrizations.weight_norm.\")\n"
     ]
    },
    {
     "name": "stdout",
     "output_type": "stream",
     "text": [
      "RTF = 0.549600\n",
      "downloading https://github.com/robinhad/ukrainian-tts/releases/download/v6.0.0\n",
      "Found ./model.pth. Skipping download...\n",
      "Found ./config.yaml. Skipping download...\n",
      "Found ./spk_xvector.ark. Skipping download...\n",
      "Found ./feats_stats.npz. Skipping download...\n",
      "downloaded.\n",
      "RTF = 0.436170\n",
      "downloading https://github.com/robinhad/ukrainian-tts/releases/download/v6.0.0\n",
      "Found ./model.pth. Skipping download...\n",
      "Found ./config.yaml. Skipping download...\n",
      "Found ./spk_xvector.ark. Skipping download...\n",
      "Found ./feats_stats.npz. Skipping download...\n",
      "downloaded.\n",
      "RTF = 0.445828\n",
      "downloading https://github.com/robinhad/ukrainian-tts/releases/download/v6.0.0\n",
      "Found ./model.pth. Skipping download...\n",
      "Found ./config.yaml. Skipping download...\n",
      "Found ./spk_xvector.ark. Skipping download...\n",
      "Found ./feats_stats.npz. Skipping download...\n",
      "downloaded.\n"
     ]
    },
    {
     "name": "stderr",
     "output_type": "stream",
     "text": [
      "WARNING:ukrainian_word_stress.stressify_:The word `університет` is in dictionary, but lacks accents\n"
     ]
    },
    {
     "name": "stdout",
     "output_type": "stream",
     "text": [
      "RTF = 0.514073\n",
      "downloading https://github.com/robinhad/ukrainian-tts/releases/download/v6.0.0\n",
      "Found ./model.pth. Skipping download...\n",
      "Found ./config.yaml. Skipping download...\n",
      "Found ./spk_xvector.ark. Skipping download...\n",
      "Found ./feats_stats.npz. Skipping download...\n",
      "downloaded.\n",
      "RTF = 0.430967\n"
     ]
    }
   ],
   "source": [
    "for i in data:\n",
    "    tts = TTS(device=\"cpu\") # can try gpu, mps\n",
    "    with open(f\"{i}.wav\", mode=\"wb\") as file:\n",
    "        _, output_text = tts.tts(i + qa_model(question = i, context = data[i])['answer'], Voices.Dmytro.value, Stress.Dictionary.value, file)\n",
    "    ipd.Audio(filename=f\"{i}.wav\")"
   ]
  }
 ],
 "metadata": {
  "kernelspec": {
   "display_name": "Python 3",
   "language": "python",
   "name": "python3"
  },
  "language_info": {
   "codemirror_mode": {
    "name": "ipython",
    "version": 3
   },
   "file_extension": ".py",
   "mimetype": "text/x-python",
   "name": "python",
   "nbconvert_exporter": "python",
   "pygments_lexer": "ipython3",
   "version": "3.11.6"
  }
 },
 "nbformat": 4,
 "nbformat_minor": 2
}
